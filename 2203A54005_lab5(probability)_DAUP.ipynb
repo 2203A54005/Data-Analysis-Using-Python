{
  "nbformat": 4,
  "nbformat_minor": 0,
  "metadata": {
    "colab": {
      "provenance": []
    },
    "kernelspec": {
      "name": "python3",
      "display_name": "Python 3"
    },
    "language_info": {
      "name": "python"
    }
  },
  "cells": [
    {
      "cell_type": "code",
      "execution_count": 16,
      "metadata": {
        "id": "lY9fAtuaAtoy"
      },
      "outputs": [],
      "source": [
        "import pandas as pd\n",
        "import math\n"
      ]
    },
    {
      "cell_type": "code",
      "source": [
        "df = pd.read_csv('/content/supermarket_sales -lab6.csv')"
      ],
      "metadata": {
        "id": "bF0ehBb3Bvdc"
      },
      "execution_count": 17,
      "outputs": []
    },
    {
      "cell_type": "code",
      "source": [
        "print(df.columns)\n",
        "df.columns = df.columns.str.strip().str.lower()\n",
        "\n"
      ],
      "metadata": {
        "colab": {
          "base_uri": "https://localhost:8080/"
        },
        "id": "mUcmJz4HCZ8i",
        "outputId": "e01fb381-08ca-4c42-9583-4cebf3012532"
      },
      "execution_count": 18,
      "outputs": [
        {
          "output_type": "stream",
          "name": "stdout",
          "text": [
            "Index(['Invoice ID', 'Branch', 'City', 'Customer type', 'Gender',\n",
            "       'Product line', 'Unit price', 'Quantity', 'Tax 5%', 'Total', 'Date',\n",
            "       'Time', 'Payment', 'cogs', 'gross margin percentage', 'gross income',\n",
            "       'Rating'],\n",
            "      dtype='object')\n"
          ]
        }
      ]
    },
    {
      "cell_type": "code",
      "source": [
        "# Define events\n",
        "A = df[df['customer type'] == 'Member']  # Event A: Transaction by a Member\n",
        "B = df[df['payment'] == 'Credit Card']"
      ],
      "metadata": {
        "id": "lGsy58eiCHXS"
      },
      "execution_count": 19,
      "outputs": []
    },
    {
      "cell_type": "code",
      "source": [
        "total_transactions = len(df)\n",
        "P_A = len(A) / total_transactions\n",
        "P_B = len(B) / total_transactions\n",
        "P_A_and_B = len(df[(df['customer type'] == 'Member') & (df['payment'] == 'Credit Card')]) / total_transactions\n",
        "P_A_or_B = P_A + P_B - P_A_and_B\n",
        "P_A_given_B = P_A_and_B / P_B if P_B != 0 else 0\n",
        "\n",
        "print(f'P(A): {P_A}')\n",
        "print(f'P(B): {P_B}')\n",
        "print(f'P(A ∪ B): {P_A_or_B}')\n",
        "print(f'P(A ∩ B): {P_A_and_B}')\n",
        "print(f'P(A | B): {P_A_given_B}')"
      ],
      "metadata": {
        "colab": {
          "base_uri": "https://localhost:8080/"
        },
        "id": "PuJiaR3LD23G",
        "outputId": "85130235-3ec7-4ec7-a64e-bb5163ed7967"
      },
      "execution_count": 20,
      "outputs": [
        {
          "output_type": "stream",
          "name": "stdout",
          "text": [
            "P(A): 0.501\n",
            "P(B): 0.0\n",
            "P(A ∪ B): 0.501\n",
            "P(A ∩ B): 0.0\n",
            "P(A | B): 0\n"
          ]
        }
      ]
    },
    {
      "cell_type": "code",
      "source": [
        "# Additional Probability Questions\n",
        "P_Health_Beauty = len(df[df['product line'] == 'Health & Beauty']) / total_transactions\n",
        "P_more_than_5_given_Ewallet = len(df[(df['payment'] == 'Ewallet') & (df['quantity'] > 5)]) / len(df[df['payment'] == 'Ewallet'])\n",
        "P_Cash_Yangon = len(df[(df['city'] == 'Yangon') & (df['payment'] == 'Cash')]) / len(df[df['city'] == 'Yangon'])\n",
        "P_Member_Rating_above_8 = len(df[(df['customer type'] == 'Member') & (df['rating'] > 8)]) / total_transactions\n",
        "\n",
        "print(f'P(Health & Beauty): {P_Health_Beauty}')\n",
        "print(f'P(Qty > 5 | Ewallet): {P_more_than_5_given_Ewallet}')\n",
        "print(f'P(Cash | Yangon): {P_Cash_Yangon}')\n",
        "print(f'P(Member & Rating > 8): {P_Member_Rating_above_8}')"
      ],
      "metadata": {
        "colab": {
          "base_uri": "https://localhost:8080/"
        },
        "id": "VPcPwaHGEPoM",
        "outputId": "dce012a9-b01a-4c23-fe44-f3822443278f"
      },
      "execution_count": 21,
      "outputs": [
        {
          "output_type": "stream",
          "name": "stdout",
          "text": [
            "P(Health & Beauty): 0.0\n",
            "P(Qty > 5 | Ewallet): 0.48695652173913045\n",
            "P(Cash | Yangon): 0.3235294117647059\n",
            "P(Member & Rating > 8): 0.157\n"
          ]
        }
      ]
    },
    {
      "cell_type": "code",
      "source": [
        "# Task 2: Factorials, Permutations, and Combinations\n",
        "\n",
        "def factorial(n):\n",
        "    return math.factorial(n) if n >= 0 else 0\n",
        "\n",
        "def permutation(n, r):\n",
        "    return math.factorial(n) // math.factorial(n - r) if n >= r else 0\n",
        "\n",
        "def combination(n, r):\n",
        "    return math.factorial(n) // (math.factorial(r) * math.factorial(n - r)) if n >= r else 0\n",
        "\n",
        "# Compute values\n",
        "perm_5_20 = permutation(20, 5)  # 5 transactions from 20\n",
        "comb_3_6 = combination(6, 3)  # 3 product lines from 6\n",
        "factorial_branches = factorial(len(df['branch'].unique()))\n",
        "payment_methods_permutation = permutation(3, 4)  # Choosing 4 from 3 (returns 0, handled)\n",
        "comb_5_15 = combination(15, 5)  # Choosing 5 employees from 15\n",
        "invoice_codes = permutation(26, 6)  # 6 letters from the alphabet\n",
        "\n",
        "print(f'Permutation(20, 5): {perm_5_20}')\n",
        "print(f'Combination(6, 3): {comb_3_6}')\n",
        "print(f'Factorial(Branches): {factorial_branches}')\n",
        "print(f'Permutation(3, 4) (Handled for r > n): {payment_methods_permutation}')\n",
        "print(f'Combination(15, 5): {comb_5_15}')\n",
        "print(f'Permutation(26, 6): {invoice_codes}')"
      ],
      "metadata": {
        "colab": {
          "base_uri": "https://localhost:8080/"
        },
        "id": "eLiHUL-HEUbl",
        "outputId": "7bdbdac9-679d-4e07-d663-f93396be2fa4"
      },
      "execution_count": 22,
      "outputs": [
        {
          "output_type": "stream",
          "name": "stdout",
          "text": [
            "Permutation(20, 5): 1860480\n",
            "Combination(6, 3): 20\n",
            "Factorial(Branches): 6\n",
            "Permutation(3, 4) (Handled for r > n): 0\n",
            "Combination(15, 5): 3003\n",
            "Permutation(26, 6): 165765600\n"
          ]
        }
      ]
    }
  ]
}